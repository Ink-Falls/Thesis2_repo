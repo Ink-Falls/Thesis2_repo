{
 "cells": [
  {
   "cell_type": "code",
   "execution_count": 2,
   "id": "3762bd2f",
   "metadata": {},
   "outputs": [
    {
     "name": "stderr",
     "output_type": "stream",
     "text": [
      "c:\\Users\\johnl\\AppData\\Local\\Programs\\Python\\Python313\\Lib\\site-packages\\tqdm\\auto.py:21: TqdmWarning: IProgress not found. Please update jupyter and ipywidgets. See https://ipywidgets.readthedocs.io/en/stable/user_install.html\n",
      "  from .autonotebook import tqdm as notebook_tqdm\n"
     ]
    },
    {
     "name": "stdout",
     "output_type": "stream",
     "text": [
      "Successfully imported Config from src/modeling_pipeline.py\n"
     ]
    }
   ],
   "source": [
    "# Import necessary libraries\n",
    "import pandas as pd\n",
    "import numpy as np\n",
    "import shap\n",
    "import sys\n",
    "import os\n",
    "\n",
    "# Scikit-learn Imports\n",
    "from sklearn.model_selection import train_test_split\n",
    "from sklearn.preprocessing import StandardScaler, OneHotEncoder\n",
    "from sklearn.linear_model import LogisticRegression\n",
    "from sklearn.compose import ColumnTransformer\n",
    "from sklearn.pipeline import Pipeline\n",
    "\n",
    "# To import from the `src/` directory, we add it to the Python path.\n",
    "# This is a robust way to access our pipeline's configuration,\n",
    "# honoring the project's architecture.\n",
    "try:\n",
    "    # Get the project root assuming the notebook is in `notebooks/`\n",
    "    project_root = os.path.dirname(os.getcwd())\n",
    "    src_dir = os.path.join(project_root, \"src\")\n",
    "    sys.path.append(src_dir)\n",
    "    from modeling_pipeline import Config\n",
    "\n",
    "    print(\"Successfully imported Config from src/modeling_pipeline.py\")\n",
    "except (ImportError, ModuleNotFoundError):\n",
    "    print(\n",
    "        \"Could not import Config. Please ensure the notebook is in the correct directory.\"\n",
    "    )\n",
    "    # Define a fallback or exit if the import fails\n",
    "    sys.exit()"
   ]
  },
  {
   "cell_type": "code",
   "execution_count": null,
   "id": "7dd15b1b",
   "metadata": {},
   "outputs": [],
   "source": [
    "print(\"--- Preparing the Champion Model: LogisticRegression on Baseline ---\")\n",
    "\n",
    "# Load the baseline dataset using our shared configuration\n",
    "dataset_path = Config.DATASETS[\"baseline\"]\n",
    "df = pd.read_csv(dataset_path)\n",
    "\n",
    "# Prepare data using the central configuration\n",
    "df[Config.TARGET_VARIABLE] = df[Config.TARGET_VARIABLE].map(\n",
    "    {\"positive\": 1, \"negative\": 0}\n",
    ")\n",
    "X = df.drop(columns=[Config.TARGET_VARIABLE])\n",
    "y = df[Config.TARGET_VARIABLE]\n",
    "\n",
    "# Create a final, reproducible train/test split for this notebook\n",
    "# We use a fixed random_state for consistency and stratify due to the data skew\n",
    "X_train, X_test, y_train, y_test = train_test_split(\n",
    "    X,\n",
    "    y,\n",
    "    test_size=Config.TEST_SIZE,\n",
    "    random_state=42,  # A standard for reproducible splits\n",
    "    stratify=y,\n",
    ")\n",
    "\n",
    "# Dynamically identify feature types, just as our pipeline does\n",
    "numerical_features = X_train.select_dtypes(include=np.number).columns.tolist()\n",
    "categorical_features = X_train.select_dtypes(exclude=np.number).columns.tolist()\n",
    "\n",
    "# Create the exact same preprocessor to ensure consistency\n",
    "preprocessor = ColumnTransformer(\n",
    "    transformers=[\n",
    "        (\"num\", StandardScaler(), numerical_features),\n",
    "        (\"cat\", OneHotEncoder(handle_unknown=\"ignore\"), categorical_features),\n",
    "    ],\n",
    "    remainder=\"passthrough\",\n",
    ")\n",
    "\n",
    "# Initialize and train the final Logistic Regression model within a scikit-learn Pipeline\n",
    "# This pipeline handles preprocessing and modeling in one clean, architectural step\n",
    "champion_model_pipeline = Pipeline(\n",
    "    steps=[\n",
    "        (\"preprocessor\", preprocessor),\n",
    "        (\"classifier\", LogisticRegression(random_state=42, max_iter=1000)),\n",
    "    ]\n",
    ")\n",
    "\n",
    "champion_model_pipeline.fit(X_train, y_train)\n",
    "\n",
    "print(\"\\nChampion model trained successfully within a reproducible pipeline.\")"
   ]
  }
 ],
 "metadata": {
  "kernelspec": {
   "display_name": "Python 3",
   "language": "python",
   "name": "python3"
  },
  "language_info": {
   "codemirror_mode": {
    "name": "ipython",
    "version": 3
   },
   "file_extension": ".py",
   "mimetype": "text/x-python",
   "name": "python",
   "nbconvert_exporter": "python",
   "pygments_lexer": "ipython3",
   "version": "3.13.7"
  }
 },
 "nbformat": 4,
 "nbformat_minor": 5
}
