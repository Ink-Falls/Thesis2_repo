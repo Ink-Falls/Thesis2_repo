{
 "cells": [
  {
   "cell_type": "code",
   "execution_count": 4,
   "id": "ed5e8c11",
   "metadata": {},
   "outputs": [],
   "source": [
    "# Import necessary libraries for analysis and statistics\n",
    "import pandas as pd\n",
    "import os\n",
    "import statsmodels.api as sm\n",
    "from statsmodels.formula.api import ols\n",
    "from statsmodels.stats.multicomp import pairwise_tukeyhsd"
   ]
  },
  {
   "cell_type": "code",
   "execution_count": 5,
   "id": "a49c7f8b",
   "metadata": {},
   "outputs": [
    {
     "name": "stdout",
     "output_type": "stream",
     "text": [
      "Data Head:\n",
      "    dataset               model  run_id  accuracy  precision    recall  \\\n",
      "0  baseline  LogisticRegression       1  0.731278   0.735000  0.948387   \n",
      "1  baseline  LogisticRegression       2  0.775330   0.765306  0.967742   \n",
      "2  baseline  LogisticRegression       3  0.740088   0.737624  0.961290   \n",
      "3  baseline  LogisticRegression       4  0.740088   0.733010  0.974194   \n",
      "4  baseline  LogisticRegression       5  0.726872   0.738462  0.929032   \n",
      "\n",
      "         f1   roc_auc  \n",
      "0  0.828169  0.596192  \n",
      "1  0.854701  0.700806  \n",
      "2  0.834734  0.631541  \n",
      "3  0.836565  0.625896  \n",
      "4  0.822857  0.640054  \n",
      "\n",
      "==================================================\n",
      "\n",
      "Data Info:\n",
      "<class 'pandas.core.frame.DataFrame'>\n",
      "RangeIndex: 90 entries, 0 to 89\n",
      "Data columns (total 8 columns):\n",
      " #   Column     Non-Null Count  Dtype  \n",
      "---  ------     --------------  -----  \n",
      " 0   dataset    90 non-null     object \n",
      " 1   model      90 non-null     object \n",
      " 2   run_id     90 non-null     int64  \n",
      " 3   accuracy   90 non-null     float64\n",
      " 4   precision  90 non-null     float64\n",
      " 5   recall     90 non-null     float64\n",
      " 6   f1         90 non-null     float64\n",
      " 7   roc_auc    90 non-null     float64\n",
      "dtypes: float64(5), int64(1), object(2)\n",
      "memory usage: 5.8+ KB\n",
      "\n",
      "==================================================\n",
      "\n",
      "Total runs loaded: 90\n"
     ]
    }
   ],
   "source": [
    "# Load the data and verify its structure.\n",
    "df = pd.read_csv(os.path.join(\"..\", \"results\", \"model_performance.csv\"))\n",
    "\n",
    "print(\"Data Head:\")\n",
    "print(df.head())\n",
    "print(\"\\n\" + \"=\" * 50 + \"\\n\")\n",
    "print(\"Data Info:\")\n",
    "df.info()\n",
    "print(\"\\n\" + \"=\" * 50 + \"\\n\")\n",
    "print(f\"Total runs loaded: {len(df)}\")"
   ]
  },
  {
   "cell_type": "code",
   "execution_count": null,
   "id": "7de397df",
   "metadata": {},
   "outputs": [
    {
     "name": "stdout",
     "output_type": "stream",
     "text": [
      "Two-Way ANOVA Results (Response Variable: F1-Score):\n",
      "                       sum_sq    df          F        PR(>F)\n",
      "C(model)             0.005634   2.0  24.136876  5.990649e-09\n",
      "C(dataset)           0.000240   2.0   1.027335  3.625759e-01\n",
      "C(model):C(dataset)  0.000101   4.0   0.215312  9.292178e-01\n",
      "Residual             0.009453  81.0        NaN           NaN\n"
     ]
    }
   ],
   "source": [
    "# Define the model formula. `C()` treats the variables as categorical.\n",
    "# The '*' notation tests for both main effects and the interaction effect.\n",
    "formula = \"f1 ~ C(model) * C(dataset)\"\n",
    "\n",
    "# Fit the Ordinary Least Squares (OLS) model\n",
    "model = ols(formula, data=df).fit()\n",
    "\n",
    "# Perform the ANOVA and print the results table\n",
    "anova_table = sm.stats.anova_lm(model, typ=2)\n",
    "print(\"Two-Way ANOVA Results (Response Variable: F1-Score):\")\n",
    "print(anova_table)"
   ]
  },
  {
   "cell_type": "code",
   "execution_count": 7,
   "id": "6a7514aa",
   "metadata": {},
   "outputs": [
    {
     "name": "stdout",
     "output_type": "stream",
     "text": [
      "Tukey's HSD Post-Hoc Test Results (Factor: Model):\n",
      "            Multiple Comparison of Means - Tukey HSD, FWER=0.05            \n",
      "===========================================================================\n",
      "      group1             group2       meandiff p-adj   lower  upper  reject\n",
      "---------------------------------------------------------------------------\n",
      "               KNN LogisticRegression   0.0132    0.0  0.0067 0.0198   True\n",
      "               KNN       RandomForest   0.0189    0.0  0.0123 0.0254   True\n",
      "LogisticRegression       RandomForest   0.0056 0.1049 -0.0009 0.0122  False\n",
      "---------------------------------------------------------------------------\n"
     ]
    }
   ],
   "source": [
    "# Perform Tukey's HSD on the 'model' group.\n",
    "tukey_model = pairwise_tukeyhsd(endog=df[\"f1\"], groups=df[\"model\"], alpha=0.05)\n",
    "\n",
    "# Print the results summary\n",
    "print(\"Tukey's HSD Post-Hoc Test Results (Factor: Model):\")\n",
    "print(tukey_model)"
   ]
  },
  {
   "cell_type": "code",
   "execution_count": 8,
   "id": "07c62f76",
   "metadata": {},
   "outputs": [
    {
     "name": "stdout",
     "output_type": "stream",
     "text": [
      "Two-Way ANOVA Results (Response Variable: Recall):\n",
      "                       sum_sq    df          F        PR(>F)\n",
      "C(model)             0.066820   2.0  83.280261  2.236387e-20\n",
      "C(dataset)           0.000445   2.0   0.554502  5.765226e-01\n",
      "C(model):C(dataset)  0.000515   4.0   0.321058  8.631085e-01\n",
      "Residual             0.032495  81.0        NaN           NaN\n"
     ]
    }
   ],
   "source": [
    "# Define the model formula for recall.\n",
    "formula_recall = \"recall ~ C(model) * C(dataset)\"\n",
    "\n",
    "# Fit the OLS model for recall\n",
    "model_recall = ols(formula_recall, data=df).fit()\n",
    "\n",
    "# Perform the ANOVA and print the results table\n",
    "anova_table_recall = sm.stats.anova_lm(model_recall, typ=2)\n",
    "print(\"Two-Way ANOVA Results (Response Variable: Recall):\")\n",
    "print(anova_table_recall)"
   ]
  },
  {
   "cell_type": "code",
   "execution_count": 9,
   "id": "bfc6e07b",
   "metadata": {},
   "outputs": [
    {
     "name": "stdout",
     "output_type": "stream",
     "text": [
      "Tukey's HSD Post-Hoc Test Results (Factor: Model, Metric: Recall):\n",
      "            Multiple Comparison of Means - Tukey HSD, FWER=0.05             \n",
      "============================================================================\n",
      "      group1             group2       meandiff p-adj   lower   upper  reject\n",
      "----------------------------------------------------------------------------\n",
      "               KNN LogisticRegression   0.0647    0.0  0.0527  0.0768   True\n",
      "               KNN       RandomForest   0.0465    0.0  0.0344  0.0585   True\n",
      "LogisticRegression       RandomForest  -0.0183 0.0015 -0.0304 -0.0062   True\n",
      "----------------------------------------------------------------------------\n"
     ]
    }
   ],
   "source": [
    "# Perform Tukey's HSD on the 'model' group using the 'recall' metric.\n",
    "tukey_recall = pairwise_tukeyhsd(endog=df[\"recall\"], groups=df[\"model\"], alpha=0.05)\n",
    "\n",
    "# Print the results summary\n",
    "print(\"Tukey's HSD Post-Hoc Test Results (Factor: Model, Metric: Recall):\")\n",
    "print(tukey_recall)"
   ]
  },
  {
   "cell_type": "code",
   "execution_count": null,
   "id": "f052f331",
   "metadata": {},
   "outputs": [
    {
     "name": "stdout",
     "output_type": "stream",
     "text": [
      "Cohen's d for Recall (LogisticRegression vs. RandomForest): 1.1003\n"
     ]
    }
   ],
   "source": [
    "# Isolate the data for the two groups we are comparing\n",
    "lr_recalls = df[df[\"model\"] == \"LogisticRegression\"][\"recall\"]\n",
    "rf_recalls = df[df[\"model\"] == \"RandomForest\"][\"recall\"]\n",
    "\n",
    "# Calculate Cohen's d for the independent samples\n",
    "effect_size = pg.compute_effsize(x=lr_recalls, y=rf_recalls, eftype=\"cohen\")\n",
    "\n",
    "print(f\"Cohen's d for Recall (LogisticRegression vs. RandomForest): {effect_size:.4f}\")"
   ]
  },
  {
   "cell_type": "code",
   "execution_count": 13,
   "id": "a425e0fe",
   "metadata": {},
   "outputs": [
    {
     "name": "stdout",
     "output_type": "stream",
     "text": [
      "Cohen's d for F1-Score (LogisticRegression vs. RandomForest): -0.5826\n"
     ]
    }
   ],
   "source": [
    "# Isolate the data for the F1 scores\n",
    "lr_f1s = df[df[\"model\"] == \"LogisticRegression\"][\"f1\"]\n",
    "rf_f1s = df[df[\"model\"] == \"RandomForest\"][\"f1\"]\n",
    "\n",
    "# Calculate Cohen's d for the F1 scores\n",
    "effect_size_f1 = pg.compute_effsize(x=lr_f1s, y=rf_f1s, eftype=\"cohen\")\n",
    "\n",
    "print(\n",
    "    f\"Cohen's d for F1-Score (LogisticRegression vs. RandomForest): {effect_size_f1:.4f}\"\n",
    ")"
   ]
  }
 ],
 "metadata": {
  "kernelspec": {
   "display_name": "Python 3",
   "language": "python",
   "name": "python3"
  },
  "language_info": {
   "codemirror_mode": {
    "name": "ipython",
    "version": 3
   },
   "file_extension": ".py",
   "mimetype": "text/x-python",
   "name": "python",
   "nbconvert_exporter": "python",
   "pygments_lexer": "ipython3",
   "version": "3.13.7"
  }
 },
 "nbformat": 4,
 "nbformat_minor": 5
}
